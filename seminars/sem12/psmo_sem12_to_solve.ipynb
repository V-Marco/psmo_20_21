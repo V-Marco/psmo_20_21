{
 "cells": [
  {
   "cell_type": "markdown",
   "metadata": {},
   "source": [
    "## Прикладная статистика в машинном обучении"
   ]
  },
  {
   "cell_type": "markdown",
   "metadata": {},
   "source": [
    "### Семинар 12. Байесовские методы."
   ]
  },
  {
   "cell_type": "code",
   "execution_count": null,
   "metadata": {},
   "outputs": [],
   "source": [
    "import numpy as np\n",
    "import pandas as pd\n",
    "import matplotlib.pyplot as plt\n",
    "import seaborn as sns\n",
    "sns.set()\n",
    "from scipy import stats "
   ]
  },
  {
   "cell_type": "code",
   "execution_count": null,
   "metadata": {},
   "outputs": [],
   "source": [
    "import jax.numpy as jnp\n",
    "import jax\n",
    "from jax import random, vmap\n",
    "from jax.scipy.special import logsumexp"
   ]
  },
  {
   "cell_type": "code",
   "execution_count": null,
   "metadata": {},
   "outputs": [],
   "source": [
    "import numpyro\n",
    "from numpyro.diagnostics import hpdi\n",
    "import numpyro.distributions as dist\n",
    "from numpyro import handlers\n",
    "from numpyro.infer import MCMC, NUTS"
   ]
  },
  {
   "cell_type": "markdown",
   "metadata": {},
   "source": [
    "#### Задание 0. Теория."
   ]
  },
  {
   "cell_type": "markdown",
   "metadata": {},
   "source": [
    "Основа основ -- формула Байеса:\n",
    "\n",
    "$$\n",
    "p(\\theta | x) = \\dfrac{p(x | \\theta)p(\\theta)}{p(x)}.\n",
    "$$\n",
    "\n",
    "\"Апостериорное распределение вектора параметров пропорционально произведению функции правдоподобия и априорного распределения параметров.\""
   ]
  },
  {
   "cell_type": "markdown",
   "metadata": {},
   "source": [
    "**Простой дискретный пример.**\n",
    "\n",
    "В Небольшом пруду водятся караси и щуки, причём согласно поверью, в любой момент времени доля карасей в Небольшом пруду может равновероятно быть либо $1/3$, либо $2/3$ в зависимости от погодных условий. Исследовательница Авдотья вылавливает десять рыб подряд. Оказалось, что в полученной выборке шесть щук и четыре карася. \n",
    "\n",
    "а) Найдите оценку максимального правдоподобия $\\hat{p}_{c}$, рассуждая с позиций частотного подхода.\n"
   ]
  },
  {
   "cell_type": "markdown",
   "metadata": {},
   "source": []
  },
  {
   "cell_type": "markdown",
   "metadata": {},
   "source": [
    "b) Теперь будем рассуждать с позиций байесовского подхода. Выпишите априорное распределение вероятности встретить карася $p_с$ и функцию правдоподобия."
   ]
  },
  {
   "cell_type": "markdown",
   "metadata": {},
   "source": []
  },
  {
   "cell_type": "markdown",
   "metadata": {},
   "source": [
    "c) Выпишите апостериорное распределение $\\theta$ с точностью до константы."
   ]
  },
  {
   "cell_type": "markdown",
   "metadata": {},
   "source": []
  },
  {
   "cell_type": "markdown",
   "metadata": {},
   "source": [
    "d) Рассчитайте апостериорное распределение $\\theta$."
   ]
  },
  {
   "cell_type": "markdown",
   "metadata": {},
   "source": [
    "#### Задание 1. Караси и щуки."
   ]
  },
  {
   "cell_type": "markdown",
   "metadata": {},
   "source": [
    "В Большом пруду водятся караси и щуки, причём согласно поверью, вероятность встретить карася равномерно распределена на отрезке от 0 до 1. Ловля рыбы в Большом пруду запрещена, поэтому исследовательница Авдотья решает провести численный эксперимент для вывода апостериорного распределения вероятности встретить карася."
   ]
  },
  {
   "cell_type": "markdown",
   "metadata": {},
   "source": [
    "1. Сгенерируйте выборку из из 100 наблюдений, каждое из которых является идентификатором того, является ли пойманная рыба карасём."
   ]
  },
  {
   "cell_type": "code",
   "execution_count": null,
   "metadata": {},
   "outputs": [],
   "source": []
  },
  {
   "cell_type": "markdown",
   "metadata": {},
   "source": [
    "2. Задайте вероятностную модель."
   ]
  },
  {
   "cell_type": "code",
   "execution_count": null,
   "metadata": {},
   "outputs": [],
   "source": []
  },
  {
   "cell_type": "markdown",
   "metadata": {},
   "source": [
    "3. Оцените модель и получите приблизительное апостериорное распределение параметров."
   ]
  },
  {
   "cell_type": "code",
   "execution_count": null,
   "metadata": {},
   "outputs": [],
   "source": []
  },
  {
   "cell_type": "markdown",
   "metadata": {},
   "source": [
    "#### Задание 2. Структурный сдвиг."
   ]
  },
  {
   "cell_type": "markdown",
   "metadata": {},
   "source": [
    "Предположим, что следующая выборка представляет собой набор данных по числу аварий в шахтах. "
   ]
  },
  {
   "cell_type": "code",
   "execution_count": null,
   "metadata": {},
   "outputs": [],
   "source": [
    "years = np.arange(1800, 2000)\n",
    "casual_1 = stats.poisson(3).rvs(100)\n",
    "casual_2 = stats.poisson(1).rvs(100)\n",
    "casual = np.hstack((casual_1, casual_2))"
   ]
  },
  {
   "cell_type": "code",
   "execution_count": null,
   "metadata": {},
   "outputs": [],
   "source": [
    "df = pd.DataFrame({'year' : years, 'casualties' : casual})\n",
    "df"
   ]
  },
  {
   "cell_type": "code",
   "execution_count": null,
   "metadata": {},
   "outputs": [],
   "source": [
    "plt.plot(df.year, df.casualties, \"o\", markersize = 8, alpha=0.4)\n",
    "plt.ylabel(\"Casualties\")\n",
    "plt.xlabel(\"Year\")"
   ]
  },
  {
   "cell_type": "code",
   "execution_count": null,
   "metadata": {},
   "outputs": [],
   "source": [
    "y = casual"
   ]
  },
  {
   "cell_type": "markdown",
   "metadata": {},
   "source": [
    "Будем считать, что $x_i \\sim \\mathrm{Pois}(\\lambda)$, где \n",
    "\n",
    "$$\n",
    "\\lambda = \\begin{cases}\n",
    "\\lambda_1, t < \\tau, \\\\\n",
    "\\lambda_2, t \\ge \\tau\n",
    "\\end{cases}\n",
    "$$"
   ]
  },
  {
   "cell_type": "markdown",
   "metadata": {},
   "source": [
    "Априорное распределение на $\\lambda$ задаётся следующим образом: $\\lambda_i \\sim \\mathrm{Exp}(\\alpha)$, где $\\alpha$ -- некоторый гиперпараметр."
   ]
  },
  {
   "cell_type": "markdown",
   "metadata": {},
   "source": [
    "а) Оцените $\\alpha$ на основе выборки. Так делать не честно, но так делают."
   ]
  },
  {
   "cell_type": "code",
   "execution_count": null,
   "metadata": {},
   "outputs": [],
   "source": []
  },
  {
   "cell_type": "markdown",
   "metadata": {},
   "source": [
    "b) Задайте вероятностную модель."
   ]
  },
  {
   "cell_type": "code",
   "execution_count": null,
   "metadata": {},
   "outputs": [],
   "source": [
    "def model(y):\n",
    "    tau = numpyro.sample('tau', dist.Uniform(years.min(), years.max()))\n",
    "    early_rate = numpyro.sample('early_rate', dist.Exponential(rate = alpha))\n",
    "    late_rate = numpyro.sample('late_rate', dist.Exponential(rate = alpha))\n",
    "    \n",
    "    rate = early_rate\n",
    "    print(type(tau))\n",
    "    \n",
    "    y_obs = numpyro.sample('obs', dist.Poisson(rate), obs = y)"
   ]
  },
  {
   "cell_type": "code",
   "execution_count": null,
   "metadata": {},
   "outputs": [],
   "source": [
    "kernel = NUTS(model) # NUTS sampler \n",
    "mcmc = MCMC(kernel, 100, 500)\n",
    "mcmc.run(random.PRNGKey(0), y = y)\n",
    "mcmc.print_summary()\n",
    "samples_1 = mcmc.get_samples()"
   ]
  },
  {
   "cell_type": "code",
   "execution_count": null,
   "metadata": {},
   "outputs": [],
   "source": [
    "import pymc3 as pm\n",
    "import arviz as az"
   ]
  },
  {
   "cell_type": "code",
   "execution_count": null,
   "metadata": {},
   "outputs": [],
   "source": [
    "with pm.Model() as disaster_model:\n",
    "    \n",
    "    # априорные распределения для параметров: \n",
    "    tau = pm.DiscreteUniform(\"tau\", lower=years.min(), upper=years.max())\n",
    "    \n",
    "    early_rate = pm.Exponential(\"early_rate\", alpha)\n",
    "    late_rate = pm.Exponential(\"late_rate\", alpha)\n",
    "    \n",
    "    # разные значения lambda в зависимости от tau\n",
    "    rate = pm.math.switch(tau >= years, early_rate, late_rate)\n",
    "    \n",
    "    # связь y с rate\n",
    "    y_obs = pm.Poisson(\"disasters\", rate, observed=y)"
   ]
  },
  {
   "cell_type": "markdown",
   "metadata": {},
   "source": [
    "c) Оцените модель и получите приблизительное апостериорное распределение параметров."
   ]
  },
  {
   "cell_type": "code",
   "execution_count": null,
   "metadata": {},
   "outputs": [],
   "source": [
    "with disaster_model:\n",
    "    trace = pm.sample(1000, return_inferencedata=False, model=disaster_model)"
   ]
  },
  {
   "cell_type": "markdown",
   "metadata": {},
   "source": [
    "d) Оцените вероятность того, что $\\lambda_i$ различны."
   ]
  },
  {
   "cell_type": "code",
   "execution_count": null,
   "metadata": {},
   "outputs": [],
   "source": []
  },
  {
   "cell_type": "markdown",
   "metadata": {},
   "source": [
    "#### Пример. Байесовская регрессия.\n",
    "\n",
    "В этом задании мы будем строить предсказательную байесовскую линейную регрессионную модель."
   ]
  },
  {
   "cell_type": "markdown",
   "metadata": {},
   "source": [
    "Исследуем набор данных `WaffleDivorce`, содержащий информацию о проценте разводов в 50 штатах США. "
   ]
  },
  {
   "cell_type": "code",
   "execution_count": null,
   "metadata": {},
   "outputs": [],
   "source": [
    "DATASET_URL = 'https://raw.githubusercontent.com/rmcelreath/rethinking/master/data/WaffleDivorce.csv'\n",
    "dset = pd.read_csv(DATASET_URL, sep=';')\n",
    "dset"
   ]
  },
  {
   "cell_type": "markdown",
   "metadata": {},
   "source": [
    "Для построения модели отберём какие-нибудь из следующих регрессоров:\n",
    "- `Population`\n",
    "- `MedianAgeMarriage`\n",
    "- `Marriage`\n",
    "- `WaffleHouses`\n",
    "- `South`."
   ]
  },
  {
   "cell_type": "code",
   "execution_count": null,
   "metadata": {},
   "outputs": [],
   "source": [
    "regr = ['Divorce', 'Population', 'MedianAgeMarriage', 'Marriage', 'WaffleHouses', 'South']\n",
    "sns.pairplot(dset, x_vars = regr, y_vars = regr)"
   ]
  },
  {
   "cell_type": "markdown",
   "metadata": {},
   "source": [
    "Замечаем, что есть корреляция между:\n",
    "- `Divorce` и `Marriage`.\n",
    "- `Divorce` и `MedianAgeMarriage`.\n",
    "\n",
    "и!\n",
    "- `Divorce` и `WaffleHouses` (слабая)."
   ]
  },
  {
   "cell_type": "code",
   "execution_count": null,
   "metadata": {},
   "outputs": [],
   "source": [
    "sns.regplot('WaffleHouses', 'Divorce', dset)"
   ]
  },
  {
   "cell_type": "markdown",
   "metadata": {},
   "source": [
    "Это пример ложной корреляции: скорее всего, число `Waffle House` в штате не влияет на процент разводов, но может коррелировать с другими, влияющими, факторами (какими?). "
   ]
  },
  {
   "cell_type": "markdown",
   "metadata": {},
   "source": [
    "**Вывод:** для построения модели будем использовать `Marriage` и `MedianAgeMarriage` в качестве регрессоров."
   ]
  },
  {
   "cell_type": "code",
   "execution_count": null,
   "metadata": {},
   "outputs": [],
   "source": [
    "X = dset[['Divorce', 'Marriage', 'MedianAgeMarriage']]"
   ]
  },
  {
   "cell_type": "markdown",
   "metadata": {},
   "source": [
    "Стандартизируем переменные для лучшей сходимости."
   ]
  },
  {
   "cell_type": "code",
   "execution_count": null,
   "metadata": {},
   "outputs": [],
   "source": [
    "stand = lambda x: (x - x.mean()) / x.std()\n",
    "X = X.apply(stand)"
   ]
  },
  {
   "cell_type": "markdown",
   "metadata": {},
   "source": [
    "Рассмотрим модель вида\n",
    "\n",
    "$$\n",
    "\\mathrm{divorce} \\sim \\mathcal{N}(\\mu, \\sigma^2).\n",
    "$$\n",
    "\n",
    "$$\n",
    "\\mu = \\beta_0 + \\beta_1\\mathrm{marriage} + \\beta_2\\mathrm{age}.\n",
    "$$"
   ]
  },
  {
   "cell_type": "markdown",
   "metadata": {},
   "source": [
    "В `numpyro` такую модель можно задать следующим образом:"
   ]
  },
  {
   "cell_type": "code",
   "execution_count": null,
   "metadata": {},
   "outputs": [],
   "source": [
    "def model(divorce = None, marriage = None, age = None):\n",
    "    beta0 = numpyro.sample('beta0', dist.Normal(0, 0.2))\n",
    "    MARRIAGE, AGE = 0, 0\n",
    "    \n",
    "    if marriage is not None:\n",
    "        beta1 = numpyro.sample('beta1', dist.Normal(0, 0.5))\n",
    "        MARRIAGE = beta1 * marriage\n",
    "        \n",
    "    if age is not None:\n",
    "        beta2 = numpyro.sample('beta2', dist.Normal(0, 0.5))\n",
    "        AGE = beta2 * age\n",
    "    \n",
    "    sigma = numpyro.sample('sigma', dist.Exponential(1))\n",
    "    mu = beta0 + MARRIAGE + AGE\n",
    "    numpyro.sample('obs', dist.Normal(mu, sigma), obs = divorce)"
   ]
  },
  {
   "cell_type": "markdown",
   "metadata": {},
   "source": [
    "**Спецификация 1.** Используем в качестве регрессора только `marriage`."
   ]
  },
  {
   "cell_type": "code",
   "execution_count": null,
   "metadata": {},
   "outputs": [],
   "source": [
    "basic_model = pm.Model()\n",
    "\n",
    "with basic_model:\n",
    "    p = pm.Uniform(name=\"karases_prop\", lower=0, upper=1)   # априорное распределение для доли \n",
    "    y_obs = pm.Bernoulli(name='y_obs', p = p, observed=y)   # модель"
   ]
  },
  {
   "cell_type": "code",
   "execution_count": null,
   "metadata": {},
   "outputs": [],
   "source": [
    "kernel = NUTS(model) # NUTS sampler \n",
    "mcmc = MCMC(kernel, 1000, 2000)\n",
    "mcmc.run(random.PRNGKey(0), marriage = X['Marriage'].values, divorce = X['Divorce'].values)\n",
    "mcmc.print_summary()\n",
    "samples_1 = mcmc.get_samples()"
   ]
  },
  {
   "cell_type": "code",
   "execution_count": null,
   "metadata": {},
   "outputs": [],
   "source": [
    "def plot_regression(x, y_mean, y_hpdi):\n",
    "    # Sort values for plotting by x axis\n",
    "    idx = jnp.argsort(x)\n",
    "    marriage = x[idx]\n",
    "    mean = y_mean[idx]\n",
    "    hpdi = y_hpdi[:, idx]\n",
    "    divorce = X['Divorce'].values[idx]\n",
    "\n",
    "    # Plot\n",
    "    fig, ax = plt.subplots(nrows=1, ncols=1, figsize=(10, 6))\n",
    "    ax.plot(marriage, mean)\n",
    "    ax.plot(marriage, divorce, 'o')\n",
    "    ax.fill_between(marriage, hpdi[0], hpdi[1], alpha=0.3, interpolate=True)\n",
    "    return ax\n",
    "\n",
    "# Compute empirical posterior distribution over mu\n",
    "posterior_mu = jnp.expand_dims(samples_1['beta0'], -1) + \\\n",
    "               jnp.expand_dims(samples_1['beta1'], -1) * X['Marriage'].values\n",
    "\n",
    "mean_mu = jnp.mean(posterior_mu, axis=0)\n",
    "hpdi_mu = hpdi(posterior_mu, 0.95)\n",
    "ax = plot_regression(X['Marriage'].values, mean_mu, hpdi_mu)\n",
    "ax.set(xlabel='Marriage rate', ylabel='Divorce rate', title='Regression line with 95% CI')"
   ]
  },
  {
   "cell_type": "code",
   "execution_count": null,
   "metadata": {},
   "outputs": [],
   "source": [
    "from numpyro.infer import Predictive\n",
    "\n",
    "predictive = Predictive(model, samples_1)\n",
    "predictions = predictive(random.PRNGKey(0), marriage=X['Marriage'].values)['obs']\n",
    "df = dset.filter(['Location'])\n",
    "df['Mean Predictions'] = jnp.mean(predictions, axis=0)\n",
    "df.head()"
   ]
  },
  {
   "cell_type": "markdown",
   "metadata": {},
   "source": [
    "#### Источники мудрости.\n",
    "\n",
    "[1] [Bayesian Regression Using NumPyro](http://num.pyro.ai/en/latest/tutorials/bayesian_regression.html)\n",
    "\n",
    "[2] [MCMC](https://habr.com/ru/company/wunderfund/blog/279545/)"
   ]
  },
  {
   "cell_type": "code",
   "execution_count": null,
   "metadata": {},
   "outputs": [],
   "source": []
  }
 ],
 "metadata": {
  "kernelspec": {
   "display_name": "Python 3",
   "language": "python",
   "name": "python3"
  },
  "language_info": {
   "codemirror_mode": {
    "name": "ipython",
    "version": 3
   },
   "file_extension": ".py",
   "mimetype": "text/x-python",
   "name": "python",
   "nbconvert_exporter": "python",
   "pygments_lexer": "ipython3",
   "version": "3.8.3"
  }
 },
 "nbformat": 4,
 "nbformat_minor": 4
}
