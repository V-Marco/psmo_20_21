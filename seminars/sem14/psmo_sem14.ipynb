{
 "cells": [
  {
   "cell_type": "markdown",
   "metadata": {},
   "source": [
    "## Прикладная статистика в машинном обучении"
   ]
  },
  {
   "cell_type": "markdown",
   "metadata": {},
   "source": [
    "### Семинар 14. Байесовские методы. Продолжение."
   ]
  },
  {
   "cell_type": "code",
   "execution_count": 3,
   "metadata": {},
   "outputs": [],
   "source": [
    "import numpy as np\n",
    "import pandas as pd\n",
    "import matplotlib.pyplot as plt\n",
    "import seaborn as sns\n",
    "sns.set()\n",
    "from scipy import stats "
   ]
  },
  {
   "cell_type": "code",
   "execution_count": 4,
   "metadata": {},
   "outputs": [],
   "source": [
    "import jax.numpy as jnp\n",
    "import jax\n",
    "from jax import random, vmap\n",
    "from jax.scipy.special import logsumexp"
   ]
  },
  {
   "cell_type": "code",
   "execution_count": 5,
   "metadata": {},
   "outputs": [],
   "source": [
    "import numpyro\n",
    "from numpyro.diagnostics import hpdi\n",
    "import numpyro.distributions as dist\n",
    "from numpyro import handlers\n",
    "from numpyro.infer import MCMC, NUTS\n",
    "from numpyro.distributions import ImproperUniform, constraints"
   ]
  },
  {
   "cell_type": "markdown",
   "metadata": {},
   "source": [
    "#### Задание 0. Теория."
   ]
  },
  {
   "cell_type": "markdown",
   "metadata": {},
   "source": [
    "Основа основ -- формула Байеса:\n",
    "\n",
    "$$\n",
    "p(\\theta | x) = \\dfrac{p(x | \\theta)p(\\theta)}{p(x)}.\n",
    "$$\n",
    "\n",
    "\"Апостериорное распределение вектора параметров пропорционально произведению функции правдоподобия и априорного распределения параметров.\""
   ]
  },
  {
   "cell_type": "markdown",
   "metadata": {},
   "source": [
    "**Простой дискретный пример.**\n",
    "\n",
    "В Небольшом пруду водятся караси и щуки, причём согласно поверью, в любой момент времени доля карасей в Небольшом пруду может равновероятно быть либо $1/3$, либо $2/3$ в зависимости от погодных условий. Исследовательница Авдотья вылавливает десять рыб подряд. Оказалось, что в полученной выборке шесть щук и четыре карася. \n",
    "\n",
    "а) Найдите оценку максимального правдоподобия $\\hat{p}_{c}$, рассуждая с позиций частотного подхода.\n"
   ]
  },
  {
   "cell_type": "markdown",
   "metadata": {},
   "source": [
    "$\\hat{p}_c = 4/10$."
   ]
  },
  {
   "cell_type": "markdown",
   "metadata": {},
   "source": [
    "b) Теперь будем рассуждать с позиций байесовского подхода. Выпишите априорное распределение вероятности встретить карася $p_с$ и функцию правдоподобия."
   ]
  },
  {
   "cell_type": "markdown",
   "metadata": {},
   "source": [
    "$$\n",
    "\\theta := p_c\n",
    "$$\n",
    "\n",
    "$$\n",
    "p(\\theta) = \\begin{cases}\n",
    "1/2, \\theta = 1/3, \\\\\n",
    "1/2, \\theta = 2/3.\n",
    "\\end{cases}\n",
    "$$\n",
    "\n",
    "$$\n",
    "p(x | \\theta) = p_с^{4}(1-p_с)^{6}.\n",
    "$$"
   ]
  },
  {
   "cell_type": "markdown",
   "metadata": {},
   "source": [
    "c) Выпишите апостериорное распределение $\\theta$ с точностью до константы."
   ]
  },
  {
   "cell_type": "markdown",
   "metadata": {},
   "source": [
    "$$\n",
    "p(\\theta = 1/3| x) \\propto (1/3)^4(2/3)^6 \\frac{1}{2}\n",
    "$$\n",
    "\n",
    "$$\n",
    "p(\\theta = 2/3| x) \\propto (2/3)^4(1/3)^6 \\frac{1}{2}\n",
    "$$"
   ]
  },
  {
   "cell_type": "markdown",
   "metadata": {},
   "source": [
    "d) Рассчитайте апостериорное распределение $\\theta$."
   ]
  },
  {
   "cell_type": "code",
   "execution_count": 49,
   "metadata": {},
   "outputs": [],
   "source": [
    "p1 = (1/3) ** 4 * (2/3) ** 6 * 1/2"
   ]
  },
  {
   "cell_type": "code",
   "execution_count": 50,
   "metadata": {},
   "outputs": [],
   "source": [
    "p2 = (2/3) ** 4 * (1/3) ** 6 * 1/2"
   ]
  },
  {
   "cell_type": "code",
   "execution_count": 51,
   "metadata": {},
   "outputs": [
    {
     "data": {
      "text/plain": [
       "0.8"
      ]
     },
     "execution_count": 51,
     "metadata": {},
     "output_type": "execute_result"
    }
   ],
   "source": [
    "p1 / (p1 + p2)"
   ]
  },
  {
   "cell_type": "code",
   "execution_count": 52,
   "metadata": {},
   "outputs": [
    {
     "data": {
      "text/plain": [
       "0.2"
      ]
     },
     "execution_count": 52,
     "metadata": {},
     "output_type": "execute_result"
    }
   ],
   "source": [
    "p2 / (p1 + p2)"
   ]
  },
  {
   "cell_type": "markdown",
   "metadata": {},
   "source": [
    "#### Задание 1. Караси и щуки."
   ]
  },
  {
   "cell_type": "markdown",
   "metadata": {},
   "source": [
    "В Большом пруду водятся караси и щуки, причём согласно поверью, вероятность встретить карася равномерно распределена на отрезке от 0 до 1. Ловля рыбы в Большом пруду запрещена, поэтому исследовательница Авдотья решает провести численный эксперимент для вывода апостериорного распределения вероятности встретить карася."
   ]
  },
  {
   "cell_type": "markdown",
   "metadata": {},
   "source": [
    "1. Сгенерируйте выборку из из 100 наблюдений, каждое из которых является идентификатором того, является ли пойманная рыба карасём."
   ]
  },
  {
   "cell_type": "code",
   "execution_count": 37,
   "metadata": {},
   "outputs": [
    {
     "name": "stdout",
     "output_type": "stream",
     "text": [
      "Доля карасей в выборке: 0.34\n"
     ]
    },
    {
     "data": {
      "text/plain": [
       "array([1, 1, 0, 0, 0, 0, 1, 0, 0, 0, 1, 1, 0, 0, 0, 0, 0, 0, 0, 1, 0, 0,\n",
       "       0, 0, 0, 1, 1, 0, 0, 0, 1, 0, 0, 1, 0, 1, 1, 0, 0, 0, 1, 0, 1, 0,\n",
       "       0, 0, 1, 0, 0, 0, 1, 0, 0, 0, 0, 0, 1, 0, 1, 0, 1, 0, 1, 0, 0, 0,\n",
       "       0, 1, 1, 0, 0, 1, 0, 1, 0, 1, 0, 0, 0, 1, 1, 0, 1, 0, 1, 0, 0, 1,\n",
       "       1, 0, 0, 0, 0, 0, 1, 0, 0, 1, 1, 0])"
      ]
     },
     "execution_count": 37,
     "metadata": {},
     "output_type": "execute_result"
    }
   ],
   "source": [
    "y = stats.bernoulli(p=0.3).rvs(100)\n",
    "print('Доля карасей в выборке:', y.mean())\n",
    "y"
   ]
  },
  {
   "cell_type": "markdown",
   "metadata": {},
   "source": [
    "2. Задайте вероятностную модель."
   ]
  },
  {
   "cell_type": "code",
   "execution_count": 42,
   "metadata": {},
   "outputs": [],
   "source": [
    "def model(y):\n",
    "    p = numpyro.sample('share', dist.Uniform(0, 1))\n",
    "    y_obs = numpyro.sample('obs', dist.Bernoulli(p), obs = y)"
   ]
  },
  {
   "cell_type": "markdown",
   "metadata": {},
   "source": [
    "3. Оцените модель и получите приблизительное апостериорное распределение параметров."
   ]
  },
  {
   "cell_type": "code",
   "execution_count": 43,
   "metadata": {},
   "outputs": [
    {
     "name": "stderr",
     "output_type": "stream",
     "text": [
      "sample: 100%|██████████| 600/600 [00:09<00:00, 64.95it/s, 3 steps of size 6.78e-01. acc. prob=0.96]\n"
     ]
    },
    {
     "name": "stdout",
     "output_type": "stream",
     "text": [
      "\n",
      "                mean       std    median      5.0%     95.0%     n_eff     r_hat\n",
      "     share      0.34      0.05      0.34      0.27      0.43    136.38      1.00\n",
      "\n",
      "Number of divergences: 0\n"
     ]
    }
   ],
   "source": [
    "kernel = NUTS(model) # NUTS sampler \n",
    "mcmc = MCMC(kernel, 100, 500)\n",
    "mcmc.run(random.PRNGKey(0), y = y)\n",
    "mcmc.print_summary()\n",
    "samples_1 = mcmc.get_samples()"
   ]
  },
  {
   "cell_type": "code",
   "execution_count": 46,
   "metadata": {},
   "outputs": [
    {
     "data": {
      "text/plain": [
       "(array([  4.,  18.,  37.,  69.,  88., 109.,  86.,  56.,  24.,   9.]),\n",
       " array([0.19390741, 0.22189325, 0.24987909, 0.27786493, 0.30585077,\n",
       "        0.33383662, 0.3618225 , 0.38980833, 0.41779417, 0.44578   ,\n",
       "        0.47376585], dtype=float32),\n",
       " <a list of 10 Patch objects>)"
      ]
     },
     "execution_count": 46,
     "metadata": {},
     "output_type": "execute_result"
    },
    {
     "data": {
      "image/png": "[encoded data removed]",
      "text/plain": [
       "<Figure size 432x288 with 1 Axes>"
      ]
     },
     "metadata": {},
     "output_type": "display_data"
    }
   ],
   "source": [
    "plt.hist(samples_1['share'])"
   ]
  },
  {
   "cell_type": "markdown",
   "metadata": {},
   "source": [
    "#### Задание 2. Структурный сдвиг."
   ]
  },
  {
   "cell_type": "markdown",
   "metadata": {},
   "source": [
    "Предположим, что следующая выборка представляет собой набор данных по числу аварий в шахтах. "
   ]
  },
  {
   "cell_type": "code",
   "execution_count": 66,
   "metadata": {},
   "outputs": [],
   "source": [
    "years = np.arange(1800, 2000)\n",
    "casual_1 = stats.poisson(3).rvs(100)\n",
    "casual_2 = stats.poisson(1).rvs(100)\n",
    "casual = np.hstack((casual_1, casual_2))"
   ]
  },
  {
   "cell_type": "code",
   "execution_count": 69,
   "metadata": {},
   "outputs": [
    {
     "data": {
      "text/html": [
       "<div>\n",
       "<style scoped>\n",
       "    .dataframe tbody tr th:only-of-type {\n",
       "        vertical-align: middle;\n",
       "    }\n",
       "\n",
       "    .dataframe tbody tr th {\n",
       "        vertical-align: top;\n",
       "    }\n",
       "\n",
       "    .dataframe thead th {\n",
       "        text-align: right;\n",
       "    }\n",
       "</style>\n",
       "<table border=\"1\" class=\"dataframe\">\n",
       "  <thead>\n",
       "    <tr style=\"text-align: right;\">\n",
       "      <th></th>\n",
       "      <th>year</th>\n",
       "      <th>casualties</th>\n",
       "    </tr>\n",
       "  </thead>\n",
       "  <tbody>\n",
       "    <tr>\n",
       "      <th>0</th>\n",
       "      <td>1800</td>\n",
       "      <td>1</td>\n",
       "    </tr>\n",
       "    <tr>\n",
       "      <th>1</th>\n",
       "      <td>1801</td>\n",
       "      <td>1</td>\n",
       "    </tr>\n",
       "    <tr>\n",
       "      <th>2</th>\n",
       "      <td>1802</td>\n",
       "      <td>5</td>\n",
       "    </tr>\n",
       "    <tr>\n",
       "      <th>3</th>\n",
       "      <td>1803</td>\n",
       "      <td>3</td>\n",
       "    </tr>\n",
       "    <tr>\n",
       "      <th>4</th>\n",
       "      <td>1804</td>\n",
       "      <td>7</td>\n",
       "    </tr>\n",
       "    <tr>\n",
       "      <th>...</th>\n",
       "      <td>...</td>\n",
       "      <td>...</td>\n",
       "    </tr>\n",
       "    <tr>\n",
       "      <th>195</th>\n",
       "      <td>1995</td>\n",
       "      <td>1</td>\n",
       "    </tr>\n",
       "    <tr>\n",
       "      <th>196</th>\n",
       "      <td>1996</td>\n",
       "      <td>0</td>\n",
       "    </tr>\n",
       "    <tr>\n",
       "      <th>197</th>\n",
       "      <td>1997</td>\n",
       "      <td>2</td>\n",
       "    </tr>\n",
       "    <tr>\n",
       "      <th>198</th>\n",
       "      <td>1998</td>\n",
       "      <td>3</td>\n",
       "    </tr>\n",
       "    <tr>\n",
       "      <th>199</th>\n",
       "      <td>1999</td>\n",
       "      <td>0</td>\n",
       "    </tr>\n",
       "  </tbody>\n",
       "</table>\n",
       "<p>200 rows × 2 columns</p>\n",
       "</div>"
      ],
      "text/plain": [
       "     year  casualties\n",
       "0    1800           1\n",
       "1    1801           1\n",
       "2    1802           5\n",
       "3    1803           3\n",
       "4    1804           7\n",
       "..    ...         ...\n",
       "195  1995           1\n",
       "196  1996           0\n",
       "197  1997           2\n",
       "198  1998           3\n",
       "199  1999           0\n",
       "\n",
       "[200 rows x 2 columns]"
      ]
     },
     "execution_count": 69,
     "metadata": {},
     "output_type": "execute_result"
    }
   ],
   "source": [
    "df = pd.DataFrame({'year' : years, 'casualties' : casual})\n",
    "df"
   ]
  },
  {
   "cell_type": "code",
   "execution_count": 71,
   "metadata": {},
   "outputs": [
    {
     "data": {
      "text/plain": [
       "Text(0.5, 0, 'Year')"
      ]
     },
     "execution_count": 71,
     "metadata": {},
     "output_type": "execute_result"
    },
    {
     "data": {
      "image/png": "[encoded data removed]",
      "text/plain": [
       "<Figure size 432x288 with 1 Axes>"
      ]
     },
     "metadata": {},
     "output_type": "display_data"
    }
   ],
   "source": [
    "plt.plot(df.year, df.casualties, \"o\", markersize = 8, alpha=0.4)\n",
    "plt.ylabel(\"Casualties\")\n",
    "plt.xlabel(\"Year\")"
   ]
  },
  {
   "cell_type": "code",
   "execution_count": 72,
   "metadata": {},
   "outputs": [],
   "source": [
    "y = casual"
   ]
  },
  {
   "cell_type": "markdown",
   "metadata": {},
   "source": [
    "Будем считать, что $x_i \\sim \\mathrm{Pois}(\\lambda)$, где \n",
    "\n",
    "$$\n",
    "\\lambda = \\begin{cases}\n",
    "\\lambda_1, t < \\tau, \\\\\n",
    "\\lambda_2, t \\ge \\tau\n",
    "\\end{cases}\n",
    "$$"
   ]
  },
  {
   "cell_type": "markdown",
   "metadata": {},
   "source": [
    "Априорное распределение на $\\lambda$ задаётся следующим образом: $\\lambda_i \\sim \\mathrm{Exp}(\\alpha)$, где $\\alpha$ -- некоторый гиперпараметр."
   ]
  },
  {
   "cell_type": "markdown",
   "metadata": {},
   "source": [
    "а) Оцените $\\alpha$ на основе выборки. Так делать не честно, но так делают."
   ]
  },
  {
   "cell_type": "code",
   "execution_count": 74,
   "metadata": {},
   "outputs": [
    {
     "data": {
      "text/plain": [
       "0.4807692307692307"
      ]
     },
     "execution_count": 74,
     "metadata": {},
     "output_type": "execute_result"
    }
   ],
   "source": [
    "alpha = 1 / np.mean(y)\n",
    "alpha"
   ]
  },
  {
   "cell_type": "markdown",
   "metadata": {},
   "source": [
    "b) Задайте вероятностную модель."
   ]
  },
  {
   "cell_type": "code",
   "execution_count": 227,
   "metadata": {},
   "outputs": [],
   "source": [
    "def model(y):\n",
    "    tau = numpyro.sample('tau', dist.Uniform(years.min(), years.max()))\n",
    "    early_rate = numpyro.sample('early_rate', dist.Exponential(rate = alpha))\n",
    "    late_rate = numpyro.sample('late_rate', dist.Exponential(rate = alpha))\n",
    "    \n",
    "    rate = early_rate\n",
    "    print(type(tau))\n",
    "    \n",
    "    y_obs = numpyro.sample('obs', dist.Poisson(rate), obs = y)"
   ]
  },
  {
   "cell_type": "code",
   "execution_count": 228,
   "metadata": {},
   "outputs": [
    {
     "name": "stdout",
     "output_type": "stream",
     "text": [
      "<class 'jax.interpreters.xla.DeviceArray'>\n",
      "<class 'jax.interpreters.ad.JVPTracer'>\n"
     ]
    },
    {
     "name": "stderr",
     "output_type": "stream",
     "text": [
      "\r",
      "  0%|          | 0/600 [00:00<?, ?it/s]"
     ]
    },
    {
     "name": "stdout",
     "output_type": "stream",
     "text": [
      "<class 'jax.interpreters.ad.JVPTracer'>\n"
     ]
    },
    {
     "name": "stderr",
     "output_type": "stream",
     "text": [
      "\r",
      "warmup:   0%|          | 1/600 [00:04<49:37,  4.97s/it, 1 steps of size 2.34e+00. acc. prob=0.00]"
     ]
    },
    {
     "name": "stdout",
     "output_type": "stream",
     "text": [
      "<class 'jax.interpreters.ad.JVPTracer'>\n"
     ]
    },
    {
     "name": "stderr",
     "output_type": "stream",
     "text": [
      "sample: 100%|██████████| 600/600 [00:13<00:00, 44.23it/s, 7 steps of size 5.55e-01. acc. prob=0.95] \n"
     ]
    },
    {
     "name": "stdout",
     "output_type": "stream",
     "text": [
      "<class 'jax.interpreters.partial_eval.DynamicJaxprTracer'>\n",
      "\n",
      "                  mean       std    median      5.0%     95.0%     n_eff     r_hat\n",
      "  early_rate      2.08      0.10      2.08      1.89      2.23    498.16      1.00\n",
      "   late_rate      2.13      2.37      1.36      0.01      5.24    465.13      1.00\n",
      "         tau   1898.89     57.08   1899.16   1808.91   1983.89    415.73      1.00\n",
      "\n",
      "Number of divergences: 0\n"
     ]
    }
   ],
   "source": [
    "kernel = NUTS(model) # NUTS sampler \n",
    "mcmc = MCMC(kernel, 100, 500)\n",
    "mcmc.run(random.PRNGKey(0), y = y)\n",
    "mcmc.print_summary()\n",
    "samples_1 = mcmc.get_samples()"
   ]
  },
  {
   "cell_type": "code",
   "execution_count": 17,
   "metadata": {},
   "outputs": [],
   "source": [
    "import pymc3 as pm\n",
    "import arviz as az"
   ]
  },
  {
   "cell_type": "code",
   "execution_count": 208,
   "metadata": {},
   "outputs": [],
   "source": [
    "with pm.Model() as disaster_model:\n",
    "    \n",
    "    # априорные распределения для параметров: \n",
    "    tau = pm.DiscreteUniform(\"tau\", lower=years.min(), upper=years.max())\n",
    "    \n",
    "    early_rate = pm.Exponential(\"early_rate\", alpha)\n",
    "    late_rate = pm.Exponential(\"late_rate\", alpha)\n",
    "    \n",
    "    # разные значения lambda в зависимости от tau\n",
    "    rate = pm.math.switch(tau >= years, early_rate, late_rate)\n",
    "    \n",
    "    # связь y с rate\n",
    "    y_obs = pm.Poisson(\"disasters\", rate, observed=y)"
   ]
  },
  {
   "cell_type": "markdown",
   "metadata": {},
   "source": [
    "c) Оцените модель и получите приблизительное апостериорное распределение параметров."
   ]
  },
  {
   "cell_type": "code",
   "execution_count": 209,
   "metadata": {},
   "outputs": [
    {
     "data": {
      "text/html": [
       "\n",
       "    <div>\n",
       "        <style>\n",
       "            /* Turns off some styling */\n",
       "            progress {\n",
       "                /* gets rid of default border in Firefox and Opera. */\n",
       "                border: none;\n",
       "                /* Needs to be in here for Safari polyfill so background images work as expected. */\n",
       "                background-size: auto;\n",
       "            }\n",
       "            .progress-bar-interrupted, .progress-bar-interrupted::-webkit-progress-bar {\n",
       "                background: #F44336;\n",
       "            }\n",
       "        </style>\n",
       "      <progress value='2000' class='' max='2000' style='width:300px; height:20px; vertical-align: middle;'></progress>\n",
       "      100.00% [2000/2000 00:06<00:00 Sampling chain 0, 0 divergences]\n",
       "    </div>\n",
       "    "
      ],
      "text/plain": [
       "<IPython.core.display.HTML object>"
      ]
     },
     "metadata": {},
     "output_type": "display_data"
    },
    {
     "data": {
      "text/html": [
       "\n",
       "    <div>\n",
       "        <style>\n",
       "            /* Turns off some styling */\n",
       "            progress {\n",
       "                /* gets rid of default border in Firefox and Opera. */\n",
       "                border: none;\n",
       "                /* Needs to be in here for Safari polyfill so background images work as expected. */\n",
       "                background-size: auto;\n",
       "            }\n",
       "            .progress-bar-interrupted, .progress-bar-interrupted::-webkit-progress-bar {\n",
       "                background: #F44336;\n",
       "            }\n",
       "        </style>\n",
       "      <progress value='2000' class='' max='2000' style='width:300px; height:20px; vertical-align: middle;'></progress>\n",
       "      100.00% [2000/2000 00:04<00:00 Sampling chain 1, 0 divergences]\n",
       "    </div>\n",
       "    "
      ],
      "text/plain": [
       "<IPython.core.display.HTML object>"
      ]
     },
     "metadata": {},
     "output_type": "display_data"
    },
    {
     "name": "stderr",
     "output_type": "stream",
     "text": [
      "ERROR:pymc3:The estimated number of effective samples is smaller than 200 for some parameters.\n"
     ]
    }
   ],
   "source": [
    "with disaster_model:\n",
    "    trace = pm.sample(1000, return_inferencedata=False, model=disaster_model)"
   ]
  },
  {
   "cell_type": "markdown",
   "metadata": {},
   "source": [
    "d) Оцените вероятность того, что $\\lambda_i$ различны."
   ]
  },
  {
   "cell_type": "code",
   "execution_count": 210,
   "metadata": {},
   "outputs": [
    {
     "data": {
      "text/plain": [
       "1.0"
      ]
     },
     "execution_count": 210,
     "metadata": {},
     "output_type": "execute_result"
    }
   ],
   "source": [
    "np.mean(trace[\"early_rate\"] - trace[\"late_rate\"] > 0)"
   ]
  },
  {
   "cell_type": "code",
   "execution_count": 212,
   "metadata": {},
   "outputs": [
    {
     "name": "stderr",
     "output_type": "stream",
     "text": [
      "/home/vladimiromelyusik/anaconda3/lib/python3.8/site-packages/arviz/data/io_pymc3.py:87: FutureWarning: Using `from_pymc3` without the model will be deprecated in a future release. Not using the model will return less accurate and less useful results. Make sure you use the model argument or call from_pymc3 within a model context.\n",
      "  warnings.warn(\n"
     ]
    },
    {
     "data": {
      "text/plain": [
       "array([[<matplotlib.axes._subplots.AxesSubplot object at 0x7fc44a109f10>,\n",
       "        <matplotlib.axes._subplots.AxesSubplot object at 0x7fc44ad87f10>],\n",
       "       [<matplotlib.axes._subplots.AxesSubplot object at 0x7fc44a9a58e0>,\n",
       "        <matplotlib.axes._subplots.AxesSubplot object at 0x7fc44a05d520>],\n",
       "       [<matplotlib.axes._subplots.AxesSubplot object at 0x7fc43f9c28b0>,\n",
       "        <matplotlib.axes._subplots.AxesSubplot object at 0x7fc43f96e640>]],\n",
       "      dtype=object)"
      ]
     },
     "execution_count": 212,
     "metadata": {},
     "output_type": "execute_result"
    },
    {
     "data": {
      "image/png": "[encoded data removed]",
      "text/plain": [
       "<Figure size 864x432 with 6 Axes>"
      ]
     },
     "metadata": {},
     "output_type": "display_data"
    }
   ],
   "source": [
    "az.plot_trace(trace)"
   ]
  },
  {
   "cell_type": "markdown",
   "metadata": {},
   "source": [
    "#### Пример. Байесовская регрессия.\n",
    "\n",
    "В этом задании мы будем строить предсказательную байесовскую линейную регрессионную модель."
   ]
  },
  {
   "cell_type": "markdown",
   "metadata": {},
   "source": [
    "Исследуем набор данных `WaffleDivorce`, содержащий информацию о проценте разводов в 50 штатах США. "
   ]
  },
  {
   "cell_type": "code",
   "execution_count": 6,
   "metadata": {},
   "outputs": [
    {
     "data": {
      "text/html": [
       "<div>\n",
       "<style scoped>\n",
       "    .dataframe tbody tr th:only-of-type {\n",
       "        vertical-align: middle;\n",
       "    }\n",
       "\n",
       "    .dataframe tbody tr th {\n",
       "        vertical-align: top;\n",
       "    }\n",
       "\n",
       "    .dataframe thead th {\n",
       "        text-align: right;\n",
       "    }\n",
       "</style>\n",
       "<table border=\"1\" class=\"dataframe\">\n",
       "  <thead>\n",
       "    <tr style=\"text-align: right;\">\n",
       "      <th></th>\n",
       "      <th>Location</th>\n",
       "      <th>Loc</th>\n",
       "      <th>Population</th>\n",
       "      <th>MedianAgeMarriage</th>\n",
       "      <th>Marriage</th>\n",
       "      <th>Marriage SE</th>\n",
       "      <th>Divorce</th>\n",
       "      <th>Divorce SE</th>\n",
       "      <th>WaffleHouses</th>\n",
       "      <th>South</th>\n",
       "      <th>Slaves1860</th>\n",
       "      <th>Population1860</th>\n",
       "      <th>PropSlaves1860</th>\n",
       "    </tr>\n",
       "  </thead>\n",
       "  <tbody>\n",
       "    <tr>\n",
       "      <th>0</th>\n",
       "      <td>Alabama</td>\n",
       "      <td>AL</td>\n",
       "      <td>4.78</td>\n",
       "      <td>25.3</td>\n",
       "      <td>20.2</td>\n",
       "      <td>1.27</td>\n",
       "      <td>12.7</td>\n",
       "      <td>0.79</td>\n",
       "      <td>128</td>\n",
       "      <td>1</td>\n",
       "      <td>435080</td>\n",
       "      <td>964201</td>\n",
       "      <td>0.450000</td>\n",
       "    </tr>\n",
       "    <tr>\n",
       "      <th>1</th>\n",
       "      <td>Alaska</td>\n",
       "      <td>AK</td>\n",
       "      <td>0.71</td>\n",
       "      <td>25.2</td>\n",
       "      <td>26.0</td>\n",
       "      <td>2.93</td>\n",
       "      <td>12.5</td>\n",
       "      <td>2.05</td>\n",
       "      <td>0</td>\n",
       "      <td>0</td>\n",
       "      <td>0</td>\n",
       "      <td>0</td>\n",
       "      <td>0.000000</td>\n",
       "    </tr>\n",
       "    <tr>\n",
       "      <th>2</th>\n",
       "      <td>Arizona</td>\n",
       "      <td>AZ</td>\n",
       "      <td>6.33</td>\n",
       "      <td>25.8</td>\n",
       "      <td>20.3</td>\n",
       "      <td>0.98</td>\n",
       "      <td>10.8</td>\n",
       "      <td>0.74</td>\n",
       "      <td>18</td>\n",
       "      <td>0</td>\n",
       "      <td>0</td>\n",
       "      <td>0</td>\n",
       "      <td>0.000000</td>\n",
       "    </tr>\n",
       "    <tr>\n",
       "      <th>3</th>\n",
       "      <td>Arkansas</td>\n",
       "      <td>AR</td>\n",
       "      <td>2.92</td>\n",
       "      <td>24.3</td>\n",
       "      <td>26.4</td>\n",
       "      <td>1.70</td>\n",
       "      <td>13.5</td>\n",
       "      <td>1.22</td>\n",
       "      <td>41</td>\n",
       "      <td>1</td>\n",
       "      <td>111115</td>\n",
       "      <td>435450</td>\n",
       "      <td>0.260000</td>\n",
       "    </tr>\n",
       "    <tr>\n",
       "      <th>4</th>\n",
       "      <td>California</td>\n",
       "      <td>CA</td>\n",
       "      <td>37.25</td>\n",
       "      <td>26.8</td>\n",
       "      <td>19.1</td>\n",
       "      <td>0.39</td>\n",
       "      <td>8.0</td>\n",
       "      <td>0.24</td>\n",
       "      <td>0</td>\n",
       "      <td>0</td>\n",
       "      <td>0</td>\n",
       "      <td>379994</td>\n",
       "      <td>0.000000</td>\n",
       "    </tr>\n",
       "    <tr>\n",
       "      <th>5</th>\n",
       "      <td>Colorado</td>\n",
       "      <td>CO</td>\n",
       "      <td>5.03</td>\n",
       "      <td>25.7</td>\n",
       "      <td>23.5</td>\n",
       "      <td>1.24</td>\n",
       "      <td>11.6</td>\n",
       "      <td>0.94</td>\n",
       "      <td>11</td>\n",
       "      <td>0</td>\n",
       "      <td>0</td>\n",
       "      <td>34277</td>\n",
       "      <td>0.000000</td>\n",
       "    </tr>\n",
       "    <tr>\n",
       "      <th>6</th>\n",
       "      <td>Connecticut</td>\n",
       "      <td>CT</td>\n",
       "      <td>3.57</td>\n",
       "      <td>27.6</td>\n",
       "      <td>17.1</td>\n",
       "      <td>1.06</td>\n",
       "      <td>6.7</td>\n",
       "      <td>0.77</td>\n",
       "      <td>0</td>\n",
       "      <td>0</td>\n",
       "      <td>0</td>\n",
       "      <td>460147</td>\n",
       "      <td>0.000000</td>\n",
       "    </tr>\n",
       "    <tr>\n",
       "      <th>7</th>\n",
       "      <td>Delaware</td>\n",
       "      <td>DE</td>\n",
       "      <td>0.90</td>\n",
       "      <td>26.6</td>\n",
       "      <td>23.1</td>\n",
       "      <td>2.89</td>\n",
       "      <td>8.9</td>\n",
       "      <td>1.39</td>\n",
       "      <td>3</td>\n",
       "      <td>0</td>\n",
       "      <td>1798</td>\n",
       "      <td>112216</td>\n",
       "      <td>0.016000</td>\n",
       "    </tr>\n",
       "    <tr>\n",
       "      <th>8</th>\n",
       "      <td>District of Columbia</td>\n",
       "      <td>DC</td>\n",
       "      <td>0.60</td>\n",
       "      <td>29.7</td>\n",
       "      <td>17.7</td>\n",
       "      <td>2.53</td>\n",
       "      <td>6.3</td>\n",
       "      <td>1.89</td>\n",
       "      <td>0</td>\n",
       "      <td>0</td>\n",
       "      <td>0</td>\n",
       "      <td>75080</td>\n",
       "      <td>0.000000</td>\n",
       "    </tr>\n",
       "    <tr>\n",
       "      <th>9</th>\n",
       "      <td>Florida</td>\n",
       "      <td>FL</td>\n",
       "      <td>18.80</td>\n",
       "      <td>26.4</td>\n",
       "      <td>17.0</td>\n",
       "      <td>0.58</td>\n",
       "      <td>8.5</td>\n",
       "      <td>0.32</td>\n",
       "      <td>133</td>\n",
       "      <td>1</td>\n",
       "      <td>61745</td>\n",
       "      <td>140424</td>\n",
       "      <td>0.440000</td>\n",
       "    </tr>\n",
       "    <tr>\n",
       "      <th>10</th>\n",
       "      <td>Georgia</td>\n",
       "      <td>GA</td>\n",
       "      <td>9.69</td>\n",
       "      <td>25.9</td>\n",
       "      <td>22.1</td>\n",
       "      <td>0.81</td>\n",
       "      <td>11.5</td>\n",
       "      <td>0.58</td>\n",
       "      <td>381</td>\n",
       "      <td>1</td>\n",
       "      <td>462198</td>\n",
       "      <td>1057286</td>\n",
       "      <td>0.440000</td>\n",
       "    </tr>\n",
       "    <tr>\n",
       "      <th>11</th>\n",
       "      <td>Hawaii</td>\n",
       "      <td>HI</td>\n",
       "      <td>1.36</td>\n",
       "      <td>26.9</td>\n",
       "      <td>24.9</td>\n",
       "      <td>2.54</td>\n",
       "      <td>8.3</td>\n",
       "      <td>1.27</td>\n",
       "      <td>0</td>\n",
       "      <td>0</td>\n",
       "      <td>0</td>\n",
       "      <td>0</td>\n",
       "      <td>0.000000</td>\n",
       "    </tr>\n",
       "    <tr>\n",
       "      <th>12</th>\n",
       "      <td>Idaho</td>\n",
       "      <td>ID</td>\n",
       "      <td>1.57</td>\n",
       "      <td>23.2</td>\n",
       "      <td>25.8</td>\n",
       "      <td>1.84</td>\n",
       "      <td>7.7</td>\n",
       "      <td>1.05</td>\n",
       "      <td>0</td>\n",
       "      <td>0</td>\n",
       "      <td>0</td>\n",
       "      <td>0</td>\n",
       "      <td>0.000000</td>\n",
       "    </tr>\n",
       "    <tr>\n",
       "      <th>13</th>\n",
       "      <td>Illinois</td>\n",
       "      <td>IL</td>\n",
       "      <td>12.83</td>\n",
       "      <td>27.0</td>\n",
       "      <td>17.9</td>\n",
       "      <td>0.58</td>\n",
       "      <td>8.0</td>\n",
       "      <td>0.45</td>\n",
       "      <td>2</td>\n",
       "      <td>0</td>\n",
       "      <td>0</td>\n",
       "      <td>1711951</td>\n",
       "      <td>0.000000</td>\n",
       "    </tr>\n",
       "    <tr>\n",
       "      <th>14</th>\n",
       "      <td>Indiana</td>\n",
       "      <td>IN</td>\n",
       "      <td>6.48</td>\n",
       "      <td>25.7</td>\n",
       "      <td>19.8</td>\n",
       "      <td>0.81</td>\n",
       "      <td>11.0</td>\n",
       "      <td>0.63</td>\n",
       "      <td>17</td>\n",
       "      <td>0</td>\n",
       "      <td>0</td>\n",
       "      <td>1350428</td>\n",
       "      <td>0.000000</td>\n",
       "    </tr>\n",
       "    <tr>\n",
       "      <th>15</th>\n",
       "      <td>Iowa</td>\n",
       "      <td>IA</td>\n",
       "      <td>3.05</td>\n",
       "      <td>25.4</td>\n",
       "      <td>21.5</td>\n",
       "      <td>1.46</td>\n",
       "      <td>10.2</td>\n",
       "      <td>0.91</td>\n",
       "      <td>0</td>\n",
       "      <td>0</td>\n",
       "      <td>0</td>\n",
       "      <td>674913</td>\n",
       "      <td>0.000000</td>\n",
       "    </tr>\n",
       "    <tr>\n",
       "      <th>16</th>\n",
       "      <td>Kansas</td>\n",
       "      <td>KS</td>\n",
       "      <td>2.85</td>\n",
       "      <td>25.0</td>\n",
       "      <td>22.1</td>\n",
       "      <td>1.48</td>\n",
       "      <td>10.6</td>\n",
       "      <td>1.09</td>\n",
       "      <td>6</td>\n",
       "      <td>0</td>\n",
       "      <td>2</td>\n",
       "      <td>107206</td>\n",
       "      <td>0.000019</td>\n",
       "    </tr>\n",
       "    <tr>\n",
       "      <th>17</th>\n",
       "      <td>Kentucky</td>\n",
       "      <td>KY</td>\n",
       "      <td>4.34</td>\n",
       "      <td>24.8</td>\n",
       "      <td>22.2</td>\n",
       "      <td>1.11</td>\n",
       "      <td>12.6</td>\n",
       "      <td>0.75</td>\n",
       "      <td>64</td>\n",
       "      <td>1</td>\n",
       "      <td>225483</td>\n",
       "      <td>1155684</td>\n",
       "      <td>0.000000</td>\n",
       "    </tr>\n",
       "    <tr>\n",
       "      <th>18</th>\n",
       "      <td>Louisiana</td>\n",
       "      <td>LA</td>\n",
       "      <td>4.53</td>\n",
       "      <td>25.9</td>\n",
       "      <td>20.6</td>\n",
       "      <td>1.19</td>\n",
       "      <td>11.0</td>\n",
       "      <td>0.89</td>\n",
       "      <td>66</td>\n",
       "      <td>1</td>\n",
       "      <td>331726</td>\n",
       "      <td>708002</td>\n",
       "      <td>0.470000</td>\n",
       "    </tr>\n",
       "    <tr>\n",
       "      <th>19</th>\n",
       "      <td>Maine</td>\n",
       "      <td>ME</td>\n",
       "      <td>1.33</td>\n",
       "      <td>26.4</td>\n",
       "      <td>13.5</td>\n",
       "      <td>1.40</td>\n",
       "      <td>13.0</td>\n",
       "      <td>1.48</td>\n",
       "      <td>0</td>\n",
       "      <td>0</td>\n",
       "      <td>0</td>\n",
       "      <td>628279</td>\n",
       "      <td>0.000000</td>\n",
       "    </tr>\n",
       "    <tr>\n",
       "      <th>20</th>\n",
       "      <td>Maryland</td>\n",
       "      <td>MD</td>\n",
       "      <td>5.77</td>\n",
       "      <td>27.3</td>\n",
       "      <td>18.3</td>\n",
       "      <td>1.02</td>\n",
       "      <td>8.8</td>\n",
       "      <td>0.69</td>\n",
       "      <td>11</td>\n",
       "      <td>0</td>\n",
       "      <td>87189</td>\n",
       "      <td>687049</td>\n",
       "      <td>0.130000</td>\n",
       "    </tr>\n",
       "    <tr>\n",
       "      <th>21</th>\n",
       "      <td>Massachusetts</td>\n",
       "      <td>MA</td>\n",
       "      <td>6.55</td>\n",
       "      <td>28.5</td>\n",
       "      <td>15.8</td>\n",
       "      <td>0.70</td>\n",
       "      <td>7.8</td>\n",
       "      <td>0.52</td>\n",
       "      <td>0</td>\n",
       "      <td>0</td>\n",
       "      <td>0</td>\n",
       "      <td>1231066</td>\n",
       "      <td>0.000000</td>\n",
       "    </tr>\n",
       "    <tr>\n",
       "      <th>22</th>\n",
       "      <td>Michigan</td>\n",
       "      <td>MI</td>\n",
       "      <td>9.88</td>\n",
       "      <td>26.4</td>\n",
       "      <td>16.5</td>\n",
       "      <td>0.69</td>\n",
       "      <td>9.2</td>\n",
       "      <td>0.53</td>\n",
       "      <td>0</td>\n",
       "      <td>0</td>\n",
       "      <td>0</td>\n",
       "      <td>749113</td>\n",
       "      <td>0.000000</td>\n",
       "    </tr>\n",
       "    <tr>\n",
       "      <th>23</th>\n",
       "      <td>Minnesota</td>\n",
       "      <td>MN</td>\n",
       "      <td>5.30</td>\n",
       "      <td>26.3</td>\n",
       "      <td>15.3</td>\n",
       "      <td>0.77</td>\n",
       "      <td>7.4</td>\n",
       "      <td>0.60</td>\n",
       "      <td>0</td>\n",
       "      <td>0</td>\n",
       "      <td>0</td>\n",
       "      <td>172023</td>\n",
       "      <td>0.000000</td>\n",
       "    </tr>\n",
       "    <tr>\n",
       "      <th>24</th>\n",
       "      <td>Mississippi</td>\n",
       "      <td>MS</td>\n",
       "      <td>2.97</td>\n",
       "      <td>25.8</td>\n",
       "      <td>19.3</td>\n",
       "      <td>1.54</td>\n",
       "      <td>11.1</td>\n",
       "      <td>1.01</td>\n",
       "      <td>72</td>\n",
       "      <td>1</td>\n",
       "      <td>436631</td>\n",
       "      <td>791305</td>\n",
       "      <td>0.550000</td>\n",
       "    </tr>\n",
       "    <tr>\n",
       "      <th>25</th>\n",
       "      <td>Missouri</td>\n",
       "      <td>MO</td>\n",
       "      <td>5.99</td>\n",
       "      <td>25.6</td>\n",
       "      <td>18.6</td>\n",
       "      <td>0.81</td>\n",
       "      <td>9.5</td>\n",
       "      <td>0.67</td>\n",
       "      <td>39</td>\n",
       "      <td>1</td>\n",
       "      <td>114931</td>\n",
       "      <td>1182012</td>\n",
       "      <td>0.097000</td>\n",
       "    </tr>\n",
       "    <tr>\n",
       "      <th>26</th>\n",
       "      <td>Montana</td>\n",
       "      <td>MT</td>\n",
       "      <td>0.99</td>\n",
       "      <td>25.7</td>\n",
       "      <td>18.5</td>\n",
       "      <td>2.31</td>\n",
       "      <td>9.1</td>\n",
       "      <td>1.71</td>\n",
       "      <td>0</td>\n",
       "      <td>0</td>\n",
       "      <td>0</td>\n",
       "      <td>0</td>\n",
       "      <td>0.000000</td>\n",
       "    </tr>\n",
       "    <tr>\n",
       "      <th>27</th>\n",
       "      <td>Nebraska</td>\n",
       "      <td>NE</td>\n",
       "      <td>1.83</td>\n",
       "      <td>25.4</td>\n",
       "      <td>19.6</td>\n",
       "      <td>1.44</td>\n",
       "      <td>8.8</td>\n",
       "      <td>0.94</td>\n",
       "      <td>0</td>\n",
       "      <td>0</td>\n",
       "      <td>15</td>\n",
       "      <td>28841</td>\n",
       "      <td>0.000520</td>\n",
       "    </tr>\n",
       "    <tr>\n",
       "      <th>28</th>\n",
       "      <td>New Hampshire</td>\n",
       "      <td>NH</td>\n",
       "      <td>1.32</td>\n",
       "      <td>26.8</td>\n",
       "      <td>16.7</td>\n",
       "      <td>1.76</td>\n",
       "      <td>10.1</td>\n",
       "      <td>1.61</td>\n",
       "      <td>0</td>\n",
       "      <td>0</td>\n",
       "      <td>0</td>\n",
       "      <td>326073</td>\n",
       "      <td>0.000000</td>\n",
       "    </tr>\n",
       "    <tr>\n",
       "      <th>29</th>\n",
       "      <td>New Jersey</td>\n",
       "      <td>NJ</td>\n",
       "      <td>8.79</td>\n",
       "      <td>27.7</td>\n",
       "      <td>14.8</td>\n",
       "      <td>0.59</td>\n",
       "      <td>6.1</td>\n",
       "      <td>0.46</td>\n",
       "      <td>0</td>\n",
       "      <td>0</td>\n",
       "      <td>18</td>\n",
       "      <td>672035</td>\n",
       "      <td>0.000027</td>\n",
       "    </tr>\n",
       "    <tr>\n",
       "      <th>30</th>\n",
       "      <td>New Mexico</td>\n",
       "      <td>NM</td>\n",
       "      <td>2.06</td>\n",
       "      <td>25.8</td>\n",
       "      <td>20.4</td>\n",
       "      <td>1.90</td>\n",
       "      <td>10.2</td>\n",
       "      <td>1.11</td>\n",
       "      <td>2</td>\n",
       "      <td>0</td>\n",
       "      <td>0</td>\n",
       "      <td>93516</td>\n",
       "      <td>0.000000</td>\n",
       "    </tr>\n",
       "    <tr>\n",
       "      <th>31</th>\n",
       "      <td>New York</td>\n",
       "      <td>NY</td>\n",
       "      <td>19.38</td>\n",
       "      <td>28.4</td>\n",
       "      <td>16.8</td>\n",
       "      <td>0.47</td>\n",
       "      <td>6.6</td>\n",
       "      <td>0.31</td>\n",
       "      <td>0</td>\n",
       "      <td>0</td>\n",
       "      <td>0</td>\n",
       "      <td>3880735</td>\n",
       "      <td>0.000000</td>\n",
       "    </tr>\n",
       "    <tr>\n",
       "      <th>32</th>\n",
       "      <td>North Carolina</td>\n",
       "      <td>NC</td>\n",
       "      <td>9.54</td>\n",
       "      <td>25.7</td>\n",
       "      <td>20.4</td>\n",
       "      <td>0.98</td>\n",
       "      <td>9.9</td>\n",
       "      <td>0.48</td>\n",
       "      <td>142</td>\n",
       "      <td>1</td>\n",
       "      <td>331059</td>\n",
       "      <td>992622</td>\n",
       "      <td>0.330000</td>\n",
       "    </tr>\n",
       "    <tr>\n",
       "      <th>33</th>\n",
       "      <td>North Dakota</td>\n",
       "      <td>ND</td>\n",
       "      <td>0.67</td>\n",
       "      <td>25.3</td>\n",
       "      <td>26.7</td>\n",
       "      <td>2.93</td>\n",
       "      <td>8.0</td>\n",
       "      <td>1.44</td>\n",
       "      <td>0</td>\n",
       "      <td>0</td>\n",
       "      <td>0</td>\n",
       "      <td>0</td>\n",
       "      <td>0.000000</td>\n",
       "    </tr>\n",
       "    <tr>\n",
       "      <th>34</th>\n",
       "      <td>Ohio</td>\n",
       "      <td>OH</td>\n",
       "      <td>11.54</td>\n",
       "      <td>26.3</td>\n",
       "      <td>16.9</td>\n",
       "      <td>0.61</td>\n",
       "      <td>9.5</td>\n",
       "      <td>0.45</td>\n",
       "      <td>64</td>\n",
       "      <td>0</td>\n",
       "      <td>0</td>\n",
       "      <td>2339511</td>\n",
       "      <td>0.000000</td>\n",
       "    </tr>\n",
       "    <tr>\n",
       "      <th>35</th>\n",
       "      <td>Oklahoma</td>\n",
       "      <td>OK</td>\n",
       "      <td>3.75</td>\n",
       "      <td>24.4</td>\n",
       "      <td>23.8</td>\n",
       "      <td>1.29</td>\n",
       "      <td>12.8</td>\n",
       "      <td>1.01</td>\n",
       "      <td>16</td>\n",
       "      <td>0</td>\n",
       "      <td>0</td>\n",
       "      <td>0</td>\n",
       "      <td>0.000000</td>\n",
       "    </tr>\n",
       "    <tr>\n",
       "      <th>36</th>\n",
       "      <td>Oregon</td>\n",
       "      <td>OR</td>\n",
       "      <td>3.83</td>\n",
       "      <td>26.0</td>\n",
       "      <td>18.9</td>\n",
       "      <td>1.10</td>\n",
       "      <td>10.4</td>\n",
       "      <td>0.80</td>\n",
       "      <td>0</td>\n",
       "      <td>0</td>\n",
       "      <td>0</td>\n",
       "      <td>52465</td>\n",
       "      <td>0.000000</td>\n",
       "    </tr>\n",
       "    <tr>\n",
       "      <th>37</th>\n",
       "      <td>Pennsylvania</td>\n",
       "      <td>PA</td>\n",
       "      <td>12.70</td>\n",
       "      <td>27.1</td>\n",
       "      <td>15.5</td>\n",
       "      <td>0.48</td>\n",
       "      <td>7.7</td>\n",
       "      <td>0.43</td>\n",
       "      <td>11</td>\n",
       "      <td>0</td>\n",
       "      <td>0</td>\n",
       "      <td>2906215</td>\n",
       "      <td>0.000000</td>\n",
       "    </tr>\n",
       "    <tr>\n",
       "      <th>38</th>\n",
       "      <td>Rhode Island</td>\n",
       "      <td>RI</td>\n",
       "      <td>1.05</td>\n",
       "      <td>28.2</td>\n",
       "      <td>15.0</td>\n",
       "      <td>2.11</td>\n",
       "      <td>9.4</td>\n",
       "      <td>1.79</td>\n",
       "      <td>0</td>\n",
       "      <td>0</td>\n",
       "      <td>0</td>\n",
       "      <td>174620</td>\n",
       "      <td>0.000000</td>\n",
       "    </tr>\n",
       "    <tr>\n",
       "      <th>39</th>\n",
       "      <td>South Carolina</td>\n",
       "      <td>SC</td>\n",
       "      <td>4.63</td>\n",
       "      <td>26.4</td>\n",
       "      <td>18.1</td>\n",
       "      <td>1.18</td>\n",
       "      <td>8.1</td>\n",
       "      <td>0.70</td>\n",
       "      <td>144</td>\n",
       "      <td>1</td>\n",
       "      <td>402406</td>\n",
       "      <td>703708</td>\n",
       "      <td>0.570000</td>\n",
       "    </tr>\n",
       "    <tr>\n",
       "      <th>40</th>\n",
       "      <td>South Dakota</td>\n",
       "      <td>SD</td>\n",
       "      <td>0.81</td>\n",
       "      <td>25.6</td>\n",
       "      <td>20.1</td>\n",
       "      <td>2.64</td>\n",
       "      <td>10.9</td>\n",
       "      <td>2.50</td>\n",
       "      <td>0</td>\n",
       "      <td>0</td>\n",
       "      <td>0</td>\n",
       "      <td>4837</td>\n",
       "      <td>0.000000</td>\n",
       "    </tr>\n",
       "    <tr>\n",
       "      <th>41</th>\n",
       "      <td>Tennessee</td>\n",
       "      <td>TN</td>\n",
       "      <td>6.35</td>\n",
       "      <td>25.2</td>\n",
       "      <td>19.4</td>\n",
       "      <td>0.85</td>\n",
       "      <td>11.4</td>\n",
       "      <td>0.75</td>\n",
       "      <td>103</td>\n",
       "      <td>1</td>\n",
       "      <td>275719</td>\n",
       "      <td>1109801</td>\n",
       "      <td>0.200000</td>\n",
       "    </tr>\n",
       "    <tr>\n",
       "      <th>42</th>\n",
       "      <td>Texas</td>\n",
       "      <td>TX</td>\n",
       "      <td>25.15</td>\n",
       "      <td>25.2</td>\n",
       "      <td>21.5</td>\n",
       "      <td>0.61</td>\n",
       "      <td>10.0</td>\n",
       "      <td>0.35</td>\n",
       "      <td>99</td>\n",
       "      <td>1</td>\n",
       "      <td>182566</td>\n",
       "      <td>604215</td>\n",
       "      <td>0.300000</td>\n",
       "    </tr>\n",
       "    <tr>\n",
       "      <th>43</th>\n",
       "      <td>Utah</td>\n",
       "      <td>UT</td>\n",
       "      <td>2.76</td>\n",
       "      <td>23.3</td>\n",
       "      <td>29.6</td>\n",
       "      <td>1.77</td>\n",
       "      <td>10.2</td>\n",
       "      <td>0.93</td>\n",
       "      <td>0</td>\n",
       "      <td>0</td>\n",
       "      <td>0</td>\n",
       "      <td>40273</td>\n",
       "      <td>0.000000</td>\n",
       "    </tr>\n",
       "    <tr>\n",
       "      <th>44</th>\n",
       "      <td>Vermont</td>\n",
       "      <td>VT</td>\n",
       "      <td>0.63</td>\n",
       "      <td>26.9</td>\n",
       "      <td>16.4</td>\n",
       "      <td>2.40</td>\n",
       "      <td>9.6</td>\n",
       "      <td>1.87</td>\n",
       "      <td>0</td>\n",
       "      <td>0</td>\n",
       "      <td>0</td>\n",
       "      <td>315098</td>\n",
       "      <td>0.000000</td>\n",
       "    </tr>\n",
       "    <tr>\n",
       "      <th>45</th>\n",
       "      <td>Virginia</td>\n",
       "      <td>VA</td>\n",
       "      <td>8.00</td>\n",
       "      <td>26.4</td>\n",
       "      <td>20.5</td>\n",
       "      <td>0.83</td>\n",
       "      <td>8.9</td>\n",
       "      <td>0.52</td>\n",
       "      <td>40</td>\n",
       "      <td>1</td>\n",
       "      <td>490865</td>\n",
       "      <td>1219630</td>\n",
       "      <td>0.400000</td>\n",
       "    </tr>\n",
       "    <tr>\n",
       "      <th>46</th>\n",
       "      <td>Washington</td>\n",
       "      <td>WA</td>\n",
       "      <td>6.72</td>\n",
       "      <td>25.9</td>\n",
       "      <td>21.4</td>\n",
       "      <td>1.00</td>\n",
       "      <td>10.0</td>\n",
       "      <td>0.65</td>\n",
       "      <td>0</td>\n",
       "      <td>0</td>\n",
       "      <td>0</td>\n",
       "      <td>11594</td>\n",
       "      <td>0.000000</td>\n",
       "    </tr>\n",
       "    <tr>\n",
       "      <th>47</th>\n",
       "      <td>West Virginia</td>\n",
       "      <td>WV</td>\n",
       "      <td>1.85</td>\n",
       "      <td>25.0</td>\n",
       "      <td>22.2</td>\n",
       "      <td>1.69</td>\n",
       "      <td>10.9</td>\n",
       "      <td>1.34</td>\n",
       "      <td>4</td>\n",
       "      <td>1</td>\n",
       "      <td>18371</td>\n",
       "      <td>376688</td>\n",
       "      <td>0.049000</td>\n",
       "    </tr>\n",
       "    <tr>\n",
       "      <th>48</th>\n",
       "      <td>Wisconsin</td>\n",
       "      <td>WI</td>\n",
       "      <td>5.69</td>\n",
       "      <td>26.3</td>\n",
       "      <td>17.2</td>\n",
       "      <td>0.79</td>\n",
       "      <td>8.3</td>\n",
       "      <td>0.57</td>\n",
       "      <td>0</td>\n",
       "      <td>0</td>\n",
       "      <td>0</td>\n",
       "      <td>775881</td>\n",
       "      <td>0.000000</td>\n",
       "    </tr>\n",
       "    <tr>\n",
       "      <th>49</th>\n",
       "      <td>Wyoming</td>\n",
       "      <td>WY</td>\n",
       "      <td>0.56</td>\n",
       "      <td>24.2</td>\n",
       "      <td>30.7</td>\n",
       "      <td>3.92</td>\n",
       "      <td>10.3</td>\n",
       "      <td>1.90</td>\n",
       "      <td>0</td>\n",
       "      <td>0</td>\n",
       "      <td>0</td>\n",
       "      <td>0</td>\n",
       "      <td>0.000000</td>\n",
       "    </tr>\n",
       "  </tbody>\n",
       "</table>\n",
       "</div>"
      ],
      "text/plain": [
       "                Location Loc  Population  MedianAgeMarriage  Marriage  \\\n",
       "0                Alabama  AL        4.78               25.3      20.2   \n",
       "1                 Alaska  AK        0.71               25.2      26.0   \n",
       "2                Arizona  AZ        6.33               25.8      20.3   \n",
       "3               Arkansas  AR        2.92               24.3      26.4   \n",
       "4             California  CA       37.25               26.8      19.1   \n",
       "5               Colorado  CO        5.03               25.7      23.5   \n",
       "6            Connecticut  CT        3.57               27.6      17.1   \n",
       "7               Delaware  DE        0.90               26.6      23.1   \n",
       "8   District of Columbia  DC        0.60               29.7      17.7   \n",
       "9                Florida  FL       18.80               26.4      17.0   \n",
       "10               Georgia  GA        9.69               25.9      22.1   \n",
       "11                Hawaii  HI        1.36               26.9      24.9   \n",
       "12                 Idaho  ID        1.57               23.2      25.8   \n",
       "13              Illinois  IL       12.83               27.0      17.9   \n",
       "14               Indiana  IN        6.48               25.7      19.8   \n",
       "15                  Iowa  IA        3.05               25.4      21.5   \n",
       "16                Kansas  KS        2.85               25.0      22.1   \n",
       "17              Kentucky  KY        4.34               24.8      22.2   \n",
       "18             Louisiana  LA        4.53               25.9      20.6   \n",
       "19                 Maine  ME        1.33               26.4      13.5   \n",
       "20              Maryland  MD        5.77               27.3      18.3   \n",
       "21         Massachusetts  MA        6.55               28.5      15.8   \n",
       "22              Michigan  MI        9.88               26.4      16.5   \n",
       "23             Minnesota  MN        5.30               26.3      15.3   \n",
       "24           Mississippi  MS        2.97               25.8      19.3   \n",
       "25              Missouri  MO        5.99               25.6      18.6   \n",
       "26               Montana  MT        0.99               25.7      18.5   \n",
       "27              Nebraska  NE        1.83               25.4      19.6   \n",
       "28         New Hampshire  NH        1.32               26.8      16.7   \n",
       "29            New Jersey  NJ        8.79               27.7      14.8   \n",
       "30            New Mexico  NM        2.06               25.8      20.4   \n",
       "31              New York  NY       19.38               28.4      16.8   \n",
       "32        North Carolina  NC        9.54               25.7      20.4   \n",
       "33          North Dakota  ND        0.67               25.3      26.7   \n",
       "34                  Ohio  OH       11.54               26.3      16.9   \n",
       "35              Oklahoma  OK        3.75               24.4      23.8   \n",
       "36                Oregon  OR        3.83               26.0      18.9   \n",
       "37          Pennsylvania  PA       12.70               27.1      15.5   \n",
       "38          Rhode Island  RI        1.05               28.2      15.0   \n",
       "39        South Carolina  SC        4.63               26.4      18.1   \n",
       "40          South Dakota  SD        0.81               25.6      20.1   \n",
       "41             Tennessee  TN        6.35               25.2      19.4   \n",
       "42                 Texas  TX       25.15               25.2      21.5   \n",
       "43                  Utah  UT        2.76               23.3      29.6   \n",
       "44               Vermont  VT        0.63               26.9      16.4   \n",
       "45              Virginia  VA        8.00               26.4      20.5   \n",
       "46            Washington  WA        6.72               25.9      21.4   \n",
       "47         West Virginia  WV        1.85               25.0      22.2   \n",
       "48             Wisconsin  WI        5.69               26.3      17.2   \n",
       "49               Wyoming  WY        0.56               24.2      30.7   \n",
       "\n",
       "    Marriage SE  Divorce  Divorce SE  WaffleHouses  South  Slaves1860  \\\n",
       "0          1.27     12.7        0.79           128      1      435080   \n",
       "1          2.93     12.5        2.05             0      0           0   \n",
       "2          0.98     10.8        0.74            18      0           0   \n",
       "3          1.70     13.5        1.22            41      1      111115   \n",
       "4          0.39      8.0        0.24             0      0           0   \n",
       "5          1.24     11.6        0.94            11      0           0   \n",
       "6          1.06      6.7        0.77             0      0           0   \n",
       "7          2.89      8.9        1.39             3      0        1798   \n",
       "8          2.53      6.3        1.89             0      0           0   \n",
       "9          0.58      8.5        0.32           133      1       61745   \n",
       "10         0.81     11.5        0.58           381      1      462198   \n",
       "11         2.54      8.3        1.27             0      0           0   \n",
       "12         1.84      7.7        1.05             0      0           0   \n",
       "13         0.58      8.0        0.45             2      0           0   \n",
       "14         0.81     11.0        0.63            17      0           0   \n",
       "15         1.46     10.2        0.91             0      0           0   \n",
       "16         1.48     10.6        1.09             6      0           2   \n",
       "17         1.11     12.6        0.75            64      1      225483   \n",
       "18         1.19     11.0        0.89            66      1      331726   \n",
       "19         1.40     13.0        1.48             0      0           0   \n",
       "20         1.02      8.8        0.69            11      0       87189   \n",
       "21         0.70      7.8        0.52             0      0           0   \n",
       "22         0.69      9.2        0.53             0      0           0   \n",
       "23         0.77      7.4        0.60             0      0           0   \n",
       "24         1.54     11.1        1.01            72      1      436631   \n",
       "25         0.81      9.5        0.67            39      1      114931   \n",
       "26         2.31      9.1        1.71             0      0           0   \n",
       "27         1.44      8.8        0.94             0      0          15   \n",
       "28         1.76     10.1        1.61             0      0           0   \n",
       "29         0.59      6.1        0.46             0      0          18   \n",
       "30         1.90     10.2        1.11             2      0           0   \n",
       "31         0.47      6.6        0.31             0      0           0   \n",
       "32         0.98      9.9        0.48           142      1      331059   \n",
       "33         2.93      8.0        1.44             0      0           0   \n",
       "34         0.61      9.5        0.45            64      0           0   \n",
       "35         1.29     12.8        1.01            16      0           0   \n",
       "36         1.10     10.4        0.80             0      0           0   \n",
       "37         0.48      7.7        0.43            11      0           0   \n",
       "38         2.11      9.4        1.79             0      0           0   \n",
       "39         1.18      8.1        0.70           144      1      402406   \n",
       "40         2.64     10.9        2.50             0      0           0   \n",
       "41         0.85     11.4        0.75           103      1      275719   \n",
       "42         0.61     10.0        0.35            99      1      182566   \n",
       "43         1.77     10.2        0.93             0      0           0   \n",
       "44         2.40      9.6        1.87             0      0           0   \n",
       "45         0.83      8.9        0.52            40      1      490865   \n",
       "46         1.00     10.0        0.65             0      0           0   \n",
       "47         1.69     10.9        1.34             4      1       18371   \n",
       "48         0.79      8.3        0.57             0      0           0   \n",
       "49         3.92     10.3        1.90             0      0           0   \n",
       "\n",
       "    Population1860  PropSlaves1860  \n",
       "0           964201        0.450000  \n",
       "1                0        0.000000  \n",
       "2                0        0.000000  \n",
       "3           435450        0.260000  \n",
       "4           379994        0.000000  \n",
       "5            34277        0.000000  \n",
       "6           460147        0.000000  \n",
       "7           112216        0.016000  \n",
       "8            75080        0.000000  \n",
       "9           140424        0.440000  \n",
       "10         1057286        0.440000  \n",
       "11               0        0.000000  \n",
       "12               0        0.000000  \n",
       "13         1711951        0.000000  \n",
       "14         1350428        0.000000  \n",
       "15          674913        0.000000  \n",
       "16          107206        0.000019  \n",
       "17         1155684        0.000000  \n",
       "18          708002        0.470000  \n",
       "19          628279        0.000000  \n",
       "20          687049        0.130000  \n",
       "21         1231066        0.000000  \n",
       "22          749113        0.000000  \n",
       "23          172023        0.000000  \n",
       "24          791305        0.550000  \n",
       "25         1182012        0.097000  \n",
       "26               0        0.000000  \n",
       "27           28841        0.000520  \n",
       "28          326073        0.000000  \n",
       "29          672035        0.000027  \n",
       "30           93516        0.000000  \n",
       "31         3880735        0.000000  \n",
       "32          992622        0.330000  \n",
       "33               0        0.000000  \n",
       "34         2339511        0.000000  \n",
       "35               0        0.000000  \n",
       "36           52465        0.000000  \n",
       "37         2906215        0.000000  \n",
       "38          174620        0.000000  \n",
       "39          703708        0.570000  \n",
       "40            4837        0.000000  \n",
       "41         1109801        0.200000  \n",
       "42          604215        0.300000  \n",
       "43           40273        0.000000  \n",
       "44          315098        0.000000  \n",
       "45         1219630        0.400000  \n",
       "46           11594        0.000000  \n",
       "47          376688        0.049000  \n",
       "48          775881        0.000000  \n",
       "49               0        0.000000  "
      ]
     },
     "execution_count": 6,
     "metadata": {},
     "output_type": "execute_result"
    }
   ],
   "source": [
    "DATASET_URL = 'https://raw.githubusercontent.com/rmcelreath/rethinking/master/data/WaffleDivorce.csv'\n",
    "dset = pd.read_csv(DATASET_URL, sep=';')\n",
    "dset"
   ]
  },
  {
   "cell_type": "markdown",
   "metadata": {},
   "source": [
    "Для построения модели отберём какие-нибудь из следующих регрессоров:\n",
    "- `Population`\n",
    "- `MedianAgeMarriage`\n",
    "- `Marriage`\n",
    "- `WaffleHouses`\n",
    "- `South`."
   ]
  },
  {
   "cell_type": "code",
   "execution_count": 4,
   "metadata": {},
   "outputs": [
    {
     "data": {
      "text/plain": [
       "<seaborn.axisgrid.PairGrid at 0x7faadde855e0>"
      ]
     },
     "execution_count": 4,
     "metadata": {},
     "output_type": "execute_result"
    },
    {
     "data": {
      "image/png": "[encoded data removed]",
      "text/plain": [
       "<Figure size 1080x1080 with 42 Axes>"
      ]
     },
     "metadata": {},
     "output_type": "display_data"
    }
   ],
   "source": [
    "regr = ['Divorce', 'Population', 'MedianAgeMarriage', 'Marriage', 'WaffleHouses', 'South']\n",
    "sns.pairplot(dset, x_vars = regr, y_vars = regr)"
   ]
  },
  {
   "cell_type": "markdown",
   "metadata": {},
   "source": [
    "Замечаем, что есть корреляция между:\n",
    "- `Divorce` и `Marriage`.\n",
    "- `Divorce` и `MedianAgeMarriage`.\n",
    "\n",
    "и!\n",
    "- `Divorce` и `WaffleHouses` (слабая)."
   ]
  },
  {
   "cell_type": "code",
   "execution_count": 8,
   "metadata": {},
   "outputs": [
    {
     "data": {
      "text/plain": [
       "<matplotlib.axes._subplots.AxesSubplot at 0x7fc48bfe0070>"
      ]
     },
     "execution_count": 8,
     "metadata": {},
     "output_type": "execute_result"
    },
    {
     "data": {
      "image/png": "[encoded data removed]",
      "text/plain": [
       "<Figure size 432x288 with 1 Axes>"
      ]
     },
     "metadata": {},
     "output_type": "display_data"
    }
   ],
   "source": [
    "sns.regplot('WaffleHouses', 'Divorce', dset)"
   ]
  },
  {
   "cell_type": "markdown",
   "metadata": {},
   "source": [
    "Это пример ложной корреляции: скорее всего, число `Waffle House` в штате не влияет на процент разводов, но может коррелировать с другими, влияющими, факторами (какими?). "
   ]
  },
  {
   "cell_type": "markdown",
   "metadata": {},
   "source": [
    "**Вывод:** для построения модели будем использовать `Marriage` и `MedianAgeMarriage` в качестве регрессоров."
   ]
  },
  {
   "cell_type": "code",
   "execution_count": 19,
   "metadata": {},
   "outputs": [],
   "source": [
    "X = dset[['Divorce', 'Marriage', 'MedianAgeMarriage']]"
   ]
  },
  {
   "cell_type": "markdown",
   "metadata": {},
   "source": [
    "Стандартизируем переменные для лучшей сходимости."
   ]
  },
  {
   "cell_type": "code",
   "execution_count": 20,
   "metadata": {},
   "outputs": [],
   "source": [
    "stand = lambda x: (x - x.mean()) / x.std()\n",
    "X = X.apply(stand)"
   ]
  },
  {
   "cell_type": "markdown",
   "metadata": {},
   "source": [
    "Рассмотрим модель вида\n",
    "\n",
    "$$\n",
    "\\mathrm{divorce} \\sim \\mathcal{N}(\\mu, \\sigma^2).\n",
    "$$\n",
    "\n",
    "$$\n",
    "\\mu = \\beta_0 + \\beta_1\\mathrm{marriage} + \\beta_2\\mathrm{age}.\n",
    "$$"
   ]
  },
  {
   "cell_type": "markdown",
   "metadata": {},
   "source": [
    "В `numpyro` такую модель можно задать следующим образом:"
   ]
  },
  {
   "cell_type": "code",
   "execution_count": 23,
   "metadata": {},
   "outputs": [],
   "source": [
    "def model(divorce = None, marriage = None, age = None):\n",
    "    beta0 = numpyro.sample('beta0', dist.Normal(0, 0.2))\n",
    "    MARRIAGE, AGE = 0, 0\n",
    "    \n",
    "    if marriage is not None:\n",
    "        beta1 = numpyro.sample('beta1', ImproperUniform(constraints.real, (), event_shape=(1, 1)))\n",
    "        #beta1 = numpyro.sample('beta1', dist.Normal(0, 0.5))\n",
    "        MARRIAGE = beta1 * marriage\n",
    "        \n",
    "    if age is not None:\n",
    "        beta2 = numpyro.sample('beta2', dist.Normal(0, 0.5))\n",
    "        AGE = beta2 * age\n",
    "    \n",
    "    sigma = numpyro.sample('sigma', dist.Exponential(1))\n",
    "    mu = beta0 + MARRIAGE + AGE\n",
    "    numpyro.sample('obs', dist.Normal(mu, sigma), obs = divorce)"
   ]
  },
  {
   "cell_type": "markdown",
   "metadata": {},
   "source": [
    "**Спецификация.** Используем в качестве регрессора только `marriage`."
   ]
  },
  {
   "cell_type": "code",
   "execution_count": 24,
   "metadata": {},
   "outputs": [
    {
     "name": "stderr",
     "output_type": "stream",
     "text": [
      "sample: 100%|██████████| 3000/3000 [00:32<00:00, 91.66it/s, 7 steps of size 7.72e-01. acc. prob=0.92] \n"
     ]
    },
    {
     "name": "stdout",
     "output_type": "stream",
     "text": [
      "\n",
      "                mean       std    median      5.0%     95.0%     n_eff     r_hat\n",
      "     beta0      0.00      0.11      0.00     -0.19      0.17   1711.73      1.00\n",
      "beta1[0,0]      0.37      0.14      0.37      0.13      0.58   2008.33      1.00\n",
      "     sigma      0.95      0.10      0.94      0.80      1.11   1774.15      1.00\n",
      "\n",
      "Number of divergences: 0\n"
     ]
    }
   ],
   "source": [
    "kernel = NUTS(model) # NUTS sampler \n",
    "mcmc = MCMC(kernel, 1000, 2000)\n",
    "mcmc.run(random.PRNGKey(0), marriage = X['Marriage'].values, divorce = X['Divorce'].values)\n",
    "mcmc.print_summary()\n",
    "samples_1 = mcmc.get_samples()"
   ]
  },
  {
   "cell_type": "code",
   "execution_count": 11,
   "metadata": {},
   "outputs": [
    {
     "data": {
      "text/plain": [
       "[Text(0, 0.5, 'Divorce rate'),\n",
       " Text(0.5, 0, 'Marriage rate'),\n",
       " Text(0.5, 1.0, 'Regression line with 95% CI')]"
      ]
     },
     "execution_count": 11,
     "metadata": {},
     "output_type": "execute_result"
    },
    {
     "data": {
      "image/png": "[encoded data removed]",
      "text/plain": [
       "<Figure size 720x432 with 1 Axes>"
      ]
     },
     "metadata": {},
     "output_type": "display_data"
    }
   ],
   "source": [
    "def plot_regression(x, y_mean, y_hpdi):\n",
    "    # Sort values for plotting by x axis\n",
    "    idx = jnp.argsort(x)\n",
    "    marriage = x[idx]\n",
    "    mean = y_mean[idx]\n",
    "    hpdi = y_hpdi[:, idx]\n",
    "    divorce = X['Divorce'].values[idx]\n",
    "\n",
    "    # Plot\n",
    "    fig, ax = plt.subplots(nrows=1, ncols=1, figsize=(10, 6))\n",
    "    ax.plot(marriage, mean)\n",
    "    ax.plot(marriage, divorce, 'o')\n",
    "    ax.fill_between(marriage, hpdi[0], hpdi[1], alpha=0.3, interpolate=True)\n",
    "    return ax\n",
    "\n",
    "# Compute empirical posterior distribution over mu\n",
    "posterior_mu = jnp.expand_dims(samples_1['beta0'], -1) + \\\n",
    "               jnp.expand_dims(samples_1['beta1'], -1) * X['Marriage'].values\n",
    "\n",
    "mean_mu = jnp.mean(posterior_mu, axis=0)\n",
    "hpdi_mu = hpdi(posterior_mu, 0.95)\n",
    "ax = plot_regression(X['Marriage'].values, mean_mu, hpdi_mu)\n",
    "ax.set(xlabel='Marriage rate', ylabel='Divorce rate', title='Regression line with 95% CI')"
   ]
  },
  {
   "cell_type": "markdown",
   "metadata": {},
   "source": [
    "**Пример. Семплировщик Метрополиса-Гастингса.**"
   ]
  },
  {
   "cell_type": "code",
   "execution_count": 16,
   "metadata": {},
   "outputs": [],
   "source": [
    "# https://buildmedia.readthedocs.org/media/pdf/numpyro/stable/numpyro.pdf, с. 91\n",
    "from collections import namedtuple\n",
    "MHState = namedtuple(\"MHState\", [\"z\", \"rng_key\"])"
   ]
  },
  {
   "cell_type": "code",
   "execution_count": 17,
   "metadata": {},
   "outputs": [],
   "source": [
    "class MetropolisHastings(numpyro.infer.mcmc.MCMCKernel):\n",
    "    sample_field = \"z\"\n",
    "    \n",
    "    def __init__(self, potential_fn, step_size = 0.1):\n",
    "        self.potential_fn = potential_fn\n",
    "        self.step_size = step_size\n",
    "        \n",
    "    def init(self, rng_key, num_warmup, init_params, model_args, model_kwargs):\n",
    "            return MHState(init_params, rng_key)\n",
    "    \n",
    "    def sample(self, state, model_args, model_kwargs): \n",
    "        z, rng_key = state\n",
    "        rng_key, key_proposal, key_accept = random.split(rng_key, 3)\n",
    "        z_proposal = dist.Normal(z, self.step_size).sample(key_proposal)\n",
    "        \n",
    "        accept_prob = jnp.exp(self.potential_fn(z) - self.potential_fn(z_proposal))\n",
    "        \n",
    "        z_new = jnp.where(dist.Uniform().sample(key_accept) < accept_prob, z_proposal, z)\n",
    "        return MHState(z_new, rng_key)\n",
    "    \n",
    "def f(x):\n",
    "    return((x - 2)**2).sum()"
   ]
  },
  {
   "cell_type": "code",
   "execution_count": 18,
   "metadata": {},
   "outputs": [
    {
     "name": "stderr",
     "output_type": "stream",
     "text": [
      "sample: 100%|██████████| 2000/2000 [00:04<00:00, 413.82it/s]\n"
     ]
    },
    {
     "name": "stdout",
     "output_type": "stream",
     "text": [
      "\n",
      "                mean       std    median      5.0%     95.0%     n_eff     r_hat\n",
      "Param:0[0]      2.03      0.66      2.00      1.00      3.04      8.73      1.03\n",
      "Param:0[1]      1.64      0.74      1.44      0.67      2.93      5.99      1.00\n",
      "\n"
     ]
    }
   ],
   "source": [
    "kernel = MetropolisHastings(f)\n",
    "mcmc = MCMC(kernel, num_warmup = 1000, num_samples = 1000)\n",
    "mcmc.run(random.PRNGKey(0), init_params = jnp.array([1., 2.]))\n",
    "samples = mcmc.get_samples()\n",
    "mcmc.print_summary()"
   ]
  },
  {
   "cell_type": "markdown",
   "metadata": {},
   "source": [
    "#### Источники мудрости.\n",
    "\n",
    "[1] [Bayesian Regression Using NumPyro](http://num.pyro.ai/en/latest/tutorials/bayesian_regression.html)\n",
    "\n",
    "[2] [MCMC](https://habr.com/ru/company/wunderfund/blog/279545/)"
   ]
  }
 ],
 "metadata": {
  "kernelspec": {
   "display_name": "Python 3",
   "language": "python",
   "name": "python3"
  },
  "language_info": {
   "codemirror_mode": {
    "name": "ipython",
    "version": 3
   },
   "file_extension": ".py",
   "mimetype": "text/x-python",
   "name": "python",
   "nbconvert_exporter": "python",
   "pygments_lexer": "ipython3",
   "version": "3.8.3"
  }
 },
 "nbformat": 4,
 "nbformat_minor": 4
}
